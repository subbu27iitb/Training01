{
 "cells": [
  {
   "cell_type": "markdown",
   "id": "59f06006-e42f-45ff-833d-59928c3945b5",
   "metadata": {},
   "source": [
    "## PANDAS: INTRODUCTION"
   ]
  },
  {
   "cell_type": "markdown",
   "id": "5136414b-75e5-4a17-bda8-e34d07874429",
   "metadata": {},
   "source": [
    "### PANDAS: Data Manipulation"
   ]
  },
  {
   "cell_type": "markdown",
   "id": "4d9db22b-5c16-4014-a995-6e6e6df07e1c",
   "metadata": {},
   "source": [
    "> It is often said that 80% of data analysis is spent on data cleaning and preparing data. To get a handle on the problem, this section focuses on a small, but important aspect of data manipulation and cleaning with Pandas."
   ]
  },
  {
   "cell_type": "markdown",
   "id": "e492167e-f025-478e-8f59-24dff1ab8f81",
   "metadata": {},
   "source": [
    "### PANDAS: Data Structures"
   ]
  },
  {
   "cell_type": "markdown",
   "id": "7180af7b-58f4-4b55-ac96-2b7f0f775267",
   "metadata": {},
   "source": [
    "*There are two different data structures are there in Pandas -*\n",
    "\n",
    "* **Series -** It is a one-dimensional labeled array capable of holding any data type (e.g. integer, string, floating point number, Python objects etc.). The axis are collectively referred to as the index.\n",
    "\n",
    "* **Data Frame -** It is a two-dimensional labeled data structure with columns of potentially different types. We can think of it like a spreadsheet or SQL table, or a Series of objects."
   ]
  },
  {
   "cell_type": "markdown",
   "id": "4a9e6a03-e7b4-476f-adc5-c57d861bc272",
   "metadata": {},
   "source": [
    "### PANDAS: Series Data Structure"
   ]
  },
  {
   "cell_type": "markdown",
   "id": "f6a549ec-8283-4fa3-812c-c7cea13ecbea",
   "metadata": {},
   "source": [
    "**Definition of Series data structure -**\n",
    "\n",
    "pandas.core.series.Series(data, index, dtype, copy)\n",
    "\n",
    "**data:** data takes various forms like ndarray, list, constants etc.<br>\n",
    "**index:** it is unique and hashable for easy identification<br>\n",
    "**dtype:** it is for data type<br>\n",
    "**copy:** only affects when Series is getting defined from one dimensional ndarray<br>"
   ]
  },
  {
   "cell_type": "code",
   "execution_count": 1,
   "id": "091938c0-f83e-4d52-9869-23e9dac5ac2d",
   "metadata": {},
   "outputs": [],
   "source": [
    "# importing required modules\n",
    "import pandas as pd\n",
    "import numpy as np"
   ]
  },
  {
   "cell_type": "code",
   "execution_count": 2,
   "id": "7fdab4ab-1516-47ce-8d89-31fd5ba099d4",
   "metadata": {},
   "outputs": [
    {
     "name": "stdout",
     "output_type": "stream",
     "text": [
      "Series([], dtype: float64) 0 <class 'pandas.core.series.Series'> 2465717728592\n"
     ]
    },
    {
     "name": "stderr",
     "output_type": "stream",
     "text": [
      "<ipython-input-2-812467d8dfd0>:2: DeprecationWarning: The default dtype for empty Series will be 'object' instead of 'float64' in a future version. Specify a dtype explicitly to silence this warning.\n",
      "  s = pd.Series()\n"
     ]
    }
   ],
   "source": [
    "# creating empty Series\n",
    "s = pd.Series()\n",
    "print (s, len(s), type(s), id(s))"
   ]
  },
  {
   "cell_type": "code",
   "execution_count": 3,
   "id": "21d48de3-01d4-483a-94ad-9529bc6dd688",
   "metadata": {},
   "outputs": [
    {
     "name": "stdout",
     "output_type": "stream",
     "text": [
      "['aaa' 'bbb' 'ccc' 'ddd'] <class 'numpy.ndarray'>\n",
      "0    aaa\n",
      "1    bbb\n",
      "2    ccc\n",
      "3    ddd\n",
      "dtype: object <class 'pandas.core.series.Series'>\n"
     ]
    }
   ],
   "source": [
    "# creating Series from ndarray\n",
    "nddata = np.array(['aaa', 'bbb', 'ccc', 'ddd'])\n",
    "print (nddata, type(nddata))\n",
    "s = pd.Series(data = nddata)\n",
    "print (s, type(s))"
   ]
  },
  {
   "cell_type": "code",
   "execution_count": 7,
   "id": "183187d9-347d-4ca2-ad8e-376c7056cc23",
   "metadata": {},
   "outputs": [
    {
     "name": "stdout",
     "output_type": "stream",
     "text": [
      "[100 200 400 500 350] <class 'numpy.ndarray'>\n",
      "0    100\n",
      "1    200\n",
      "2    400\n",
      "3    500\n",
      "4    350\n",
      "dtype: int32 <class 'pandas.core.series.Series'>\n",
      "[  100   200 99999   500   350] <class 'numpy.ndarray'>\n",
      "0      100\n",
      "1      200\n",
      "2    99999\n",
      "3      500\n",
      "4      350\n",
      "dtype: int32 <class 'pandas.core.series.Series'>\n"
     ]
    }
   ],
   "source": [
    "nddata = np.array([100, 200, 400, 500, 350])\n",
    "print (nddata, type(nddata))\n",
    "s = pd.Series(data = nddata, copy = False)\n",
    "print (s, type(s))\n",
    "nddata[2] = 99999\n",
    "print (nddata, type(nddata))\n",
    "print (s, type(s))"
   ]
  },
  {
   "cell_type": "code",
   "execution_count": 8,
   "id": "1ff5be33-fc14-4533-b8f7-cef3120c7afa",
   "metadata": {},
   "outputs": [
    {
     "name": "stdout",
     "output_type": "stream",
     "text": [
      "[100 200 400 500 350] <class 'numpy.ndarray'>\n",
      "0    100\n",
      "1    200\n",
      "2    400\n",
      "3    500\n",
      "4    350\n",
      "dtype: int32 <class 'pandas.core.series.Series'>\n",
      "[  100   200 99999   500   350] <class 'numpy.ndarray'>\n",
      "0    100\n",
      "1    200\n",
      "2    400\n",
      "3    500\n",
      "4    350\n",
      "dtype: int32 <class 'pandas.core.series.Series'>\n"
     ]
    }
   ],
   "source": [
    "nddata = np.array([100, 200, 400, 500, 350])\n",
    "print (nddata, type(nddata))\n",
    "s = pd.Series(data = nddata, copy = True)\n",
    "print (s, type(s))\n",
    "nddata[2] = 99999\n",
    "print (nddata, type(nddata))\n",
    "print (s, type(s))"
   ]
  },
  {
   "cell_type": "code",
   "execution_count": 12,
   "id": "8e618814-a677-49b0-bff3-0b6f56da1317",
   "metadata": {},
   "outputs": [
    {
     "name": "stdout",
     "output_type": "stream",
     "text": [
      "['aaa' 'bbb' 'ccc' 'ddd' 'eee' 'fff' 'ggg'] <class 'numpy.ndarray'>\n",
      "100    aaa\n",
      "101    bbb\n",
      "130    ccc\n",
      "120    ddd\n",
      "101    eee\n",
      "303    fff\n",
      "404    ggg\n",
      "dtype: object <class 'pandas.core.series.Series'>\n",
      "aaa\n",
      "101    bbb\n",
      "101    eee\n",
      "dtype: object\n",
      "ggg\n"
     ]
    }
   ],
   "source": [
    "nddata = np.array(['aaa', 'bbb', 'ccc', 'ddd', 'eee', 'fff', 'ggg'])\n",
    "print (nddata, type(nddata))\n",
    "s = pd.Series(data = nddata, index = [100, 101, 130, 120, 101, 303, 404])\n",
    "print (s, type(s))\n",
    "print (s[100])\n",
    "print (s[101])\n",
    "print (s[404])"
   ]
  },
  {
   "cell_type": "code",
   "execution_count": 14,
   "id": "aaec3eb4-6c8d-41e2-8c8e-90d1d9dd3d95",
   "metadata": {},
   "outputs": [
    {
     "name": "stdout",
     "output_type": "stream",
     "text": [
      "['aaa' 'bbb' 'ccc' 'ddd' 'eee' 'fff' 'ggg'] <class 'numpy.ndarray'>\n",
      "a    aaa\n",
      "b    bbb\n",
      "d    ccc\n",
      "c    ddd\n",
      "h    eee\n",
      "e    fff\n",
      "y    ggg\n",
      "dtype: object <class 'pandas.core.series.Series'>\n",
      "aaa aaa\n",
      "bbb bbb\n",
      "eee eee\n"
     ]
    }
   ],
   "source": [
    "nddata = np.array(['aaa', 'bbb', 'ccc', 'ddd', 'eee', 'fff', 'ggg'])\n",
    "print (nddata, type(nddata))\n",
    "s = pd.Series(data = nddata, index = ['a', 'b', 'd', 'c', 'h', 'e', 'y'])\n",
    "print (s, type(s))\n",
    "print (s[0], s['a'])\n",
    "print (s[1], s['b'])\n",
    "print (s[4], s['h'])"
   ]
  },
  {
   "cell_type": "code",
   "execution_count": 15,
   "id": "5a8e4653-10f9-4598-a78a-63f1e8762e28",
   "metadata": {},
   "outputs": [
    {
     "name": "stdout",
     "output_type": "stream",
     "text": [
      "{'apple': 100, 'banana': 220, 'orange': 450, 'pineapple': 320} <class 'dict'>\n",
      "apple        100\n",
      "banana       220\n",
      "orange       450\n",
      "pineapple    320\n",
      "dtype: int64 <class 'pandas.core.series.Series'>\n"
     ]
    }
   ],
   "source": [
    "# creating Series from dictionary\n",
    "dictdata = {'apple':100, 'banana':220, 'orange':450, 'pineapple':320}\n",
    "print (dictdata, type(dictdata))\n",
    "s = pd.Series(data = dictdata)\n",
    "print (s, type(s))"
   ]
  },
  {
   "cell_type": "code",
   "execution_count": 18,
   "id": "f54ab38c-ad81-4352-8302-79e80c7dc4f2",
   "metadata": {},
   "outputs": [
    {
     "name": "stdout",
     "output_type": "stream",
     "text": [
      "{'apple': 100, 'banana': 220, 'orange': 450, 'pineapple': 320} <class 'dict'>\n",
      "apple        100\n",
      "orange       450\n",
      "orange       450\n",
      "apple        100\n",
      "orange       450\n",
      "pineapple    320\n",
      "banana       220\n",
      "dtype: int64 <class 'pandas.core.series.Series'>\n",
      "220\n",
      "orange    450\n",
      "orange    450\n",
      "orange    450\n",
      "dtype: int64\n",
      "apple    100\n",
      "apple    100\n",
      "dtype: int64\n"
     ]
    }
   ],
   "source": [
    "dictdata = {'apple':100, 'banana':220, 'orange':450, 'pineapple':320}\n",
    "print (dictdata, type(dictdata))\n",
    "s = pd.Series(data = dictdata, index = ['apple', 'orange', 'orange', 'apple', 'orange', 'pineapple', 'banana'])\n",
    "print (s, type(s))\n",
    "print (s['banana'])\n",
    "print (s['orange'])\n",
    "print (s['apple'])"
   ]
  },
  {
   "cell_type": "code",
   "execution_count": 19,
   "id": "6e5ed045-45b9-4590-bf86-adca10222775",
   "metadata": {},
   "outputs": [
    {
     "name": "stdout",
     "output_type": "stream",
     "text": [
      "0    5\n",
      "1    5\n",
      "2    5\n",
      "3    5\n",
      "4    5\n",
      "5    5\n",
      "6    5\n",
      "dtype: int64 <class 'pandas.core.series.Series'>\n"
     ]
    }
   ],
   "source": [
    "# creating Series from scaler\n",
    "s = pd.Series(data = 5, index = [0, 1, 2, 3, 4, 5, 6])\n",
    "print (s, type(s))"
   ]
  },
  {
   "cell_type": "code",
   "execution_count": 25,
   "id": "90933479-9d6c-4c83-98ae-da37bfd35579",
   "metadata": {},
   "outputs": [
    {
     "name": "stdout",
     "output_type": "stream",
     "text": [
      "['Monday', 'Friday', 'Saturday', 'Tuesday'] <class 'list'>\n",
      "0      Monday\n",
      "1      Friday\n",
      "2    Saturday\n",
      "3     Tuesday\n",
      "dtype: object <class 'pandas.core.series.Series'>\n",
      "1st      Monday\n",
      "2nd      Friday\n",
      "3rd    Saturday\n",
      "4th     Tuesday\n",
      "dtype: object <class 'pandas.core.series.Series'>\n",
      "3rd      Monday\n",
      "1st      Friday\n",
      "4th    Saturday\n",
      "2nd     Tuesday\n",
      "dtype: object <class 'pandas.core.series.Series'>\n",
      "1st      Friday\n",
      "3rd      Monday\n",
      "4th    Saturday\n",
      "2nd     Tuesday\n",
      "dtype: object\n",
      "1st      Friday\n",
      "2nd     Tuesday\n",
      "3rd      Monday\n",
      "4th    Saturday\n",
      "dtype: object\n"
     ]
    }
   ],
   "source": [
    "# creating Series from list\n",
    "listdata = ['Monday', 'Friday', 'Saturday', 'Tuesday']\n",
    "print (listdata, type(listdata))\n",
    "s = pd.Series(data = listdata)\n",
    "print (s, type(s))\n",
    "s = pd.Series(data = listdata, index = ['1st', '2nd', '3rd', '4th'])\n",
    "print (s, type(s))\n",
    "s = pd.Series(data = listdata, index = ['3rd', '1st', '4th', '2nd'])\n",
    "print (s, type(s))\n",
    "print (s.sort_values())\n",
    "print (s.sort_index())"
   ]
  },
  {
   "cell_type": "code",
   "execution_count": 32,
   "id": "d12267e3-7fda-4e0a-924f-01b870945866",
   "metadata": {},
   "outputs": [
    {
     "name": "stdout",
     "output_type": "stream",
     "text": [
      "['Monday', 'Friday', 'Saturday', 'Tuesday', 'Wednesday', 'Sunday'] <class 'list'>\n",
      "0       Monday\n",
      "1       Friday\n",
      "2     Saturday\n",
      "3      Tuesday\n",
      "4    Wednesday\n",
      "5       Sunday\n",
      "dtype: object <class 'pandas.core.series.Series'>\n",
      "Saturday\n",
      "0      Monday\n",
      "1      Friday\n",
      "2    Saturday\n",
      "dtype: object\n",
      "3      Tuesday\n",
      "4    Wednesday\n",
      "5       Sunday\n",
      "dtype: object\n",
      "2    Saturday\n",
      "3     Tuesday\n",
      "dtype: object\n"
     ]
    }
   ],
   "source": [
    "listdata = ['Monday', 'Friday', 'Saturday', 'Tuesday', 'Wednesday', 'Sunday']\n",
    "print (listdata, type(listdata))\n",
    "s = pd.Series(data = listdata)\n",
    "print (s, type(s))\n",
    "print (s[2])\n",
    "print (s[:3])\n",
    "print (s[3:])\n",
    "print (s[2:4])"
   ]
  },
  {
   "cell_type": "markdown",
   "id": "76d1432c-4800-4a3b-8ba7-1f23f7487dfe",
   "metadata": {},
   "source": [
    "### PANDAS: Data Frame Structure"
   ]
  },
  {
   "cell_type": "code",
   "execution_count": null,
   "id": "40686443-76e9-4c5e-8568-d0875cd5af57",
   "metadata": {},
   "outputs": [],
   "source": []
  },
  {
   "cell_type": "code",
   "execution_count": null,
   "id": "6cdb7b4c-74c1-4ce0-aee7-902c11321e13",
   "metadata": {},
   "outputs": [],
   "source": []
  },
  {
   "cell_type": "code",
   "execution_count": null,
   "id": "e33d73c1-ba18-475e-89c3-bdccdbbf6d6b",
   "metadata": {},
   "outputs": [],
   "source": []
  },
  {
   "cell_type": "code",
   "execution_count": null,
   "id": "4be6621b-0c00-47d2-8a8f-f6bc625b071d",
   "metadata": {},
   "outputs": [],
   "source": []
  },
  {
   "cell_type": "code",
   "execution_count": null,
   "id": "77b62277-184c-4e4e-991f-635a6a5bb050",
   "metadata": {},
   "outputs": [],
   "source": []
  },
  {
   "cell_type": "code",
   "execution_count": null,
   "id": "71c6f2d3-4ef1-45e2-b1e4-1637497a5217",
   "metadata": {},
   "outputs": [],
   "source": []
  },
  {
   "cell_type": "code",
   "execution_count": null,
   "id": "0373c9ba-fae4-49ba-9db7-2ca9b6b143aa",
   "metadata": {},
   "outputs": [],
   "source": []
  }
 ],
 "metadata": {
  "kernelspec": {
   "display_name": "Python 3",
   "language": "python",
   "name": "python3"
  },
  "language_info": {
   "codemirror_mode": {
    "name": "ipython",
    "version": 3
   },
   "file_extension": ".py",
   "mimetype": "text/x-python",
   "name": "python",
   "nbconvert_exporter": "python",
   "pygments_lexer": "ipython3",
   "version": "3.8.8"
  }
 },
 "nbformat": 4,
 "nbformat_minor": 5
}
