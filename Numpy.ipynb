{
 "cells": [
  {
   "cell_type": "markdown",
   "id": "e841e481-477e-4ce1-a013-265367083ea3",
   "metadata": {},
   "source": [
    "## NUMPY: ARRAYS AND MATRICES"
   ]
  },
  {
   "cell_type": "markdown",
   "id": "bee50b25-f718-42fd-ad79-ef825eb80b43",
   "metadata": {},
   "source": [
    "**NumPy (Numeric Python)** is an extension to the Python programming language, adding support for large, multi-dimensional arrays and matrices, along with a large library of high-level mathematical functions to operate on these arrays."
   ]
  },
  {
   "cell_type": "code",
   "execution_count": 1,
   "id": "ced9b127-d7ab-44d6-8c61-e043b80ec4ff",
   "metadata": {},
   "outputs": [],
   "source": [
    "# imprting required modules\n",
    "import numpy as np"
   ]
  },
  {
   "cell_type": "markdown",
   "id": "66d74cb3-842a-47a2-9345-ba5fbe695614",
   "metadata": {},
   "source": [
    "### Create Arrays"
   ]
  },
  {
   "cell_type": "code",
   "execution_count": 10,
   "id": "c387ead0-316a-4ce2-ab2d-120f1f9e0bf3",
   "metadata": {},
   "outputs": [
    {
     "name": "stdout",
     "output_type": "stream",
     "text": [
      "[11, 22, 33, 44, 55, 66] 6 <class 'list'> 1607686865792\n",
      "[11 22 33 44 55 66] 6 <class 'numpy.ndarray'> 1607687480208\n",
      "[11, 22, 33, 44, 55, 66] 6 <class 'list'> 1607653768000\n"
     ]
    }
   ],
   "source": [
    "# create ndarrays from lists\n",
    "data1 = [11, 22, 33, 44, 55, 66]\n",
    "print (data1, len(data1), type(data1), id(data1))\n",
    "arr1 = np.array(data1)\n",
    "print (arr1, len(arr1), type(arr1), id(arr1))\n",
    "list1 = arr1.tolist()\n",
    "print (list1, len(list1), type(list1), id(list1))"
   ]
  },
  {
   "cell_type": "code",
   "execution_count": 7,
   "id": "0ce172af-62eb-4add-a4c5-dd7c9984d75e",
   "metadata": {},
   "outputs": [
    {
     "name": "stdout",
     "output_type": "stream",
     "text": [
      "[[11, 22, 33, 44, 55, 66], [100, 200, 300, 400, 500, 600]] 2 <class 'list'> 1607686023040\n",
      "[[ 11  22  33  44  55  66]\n",
      " [100 200 300 400 500 600]] 2 <class 'numpy.ndarray'> 1607687339920\n",
      "[[11, 22, 33, 44, 55, 66], [100, 200, 300, 400, 500, 600]] 2 <class 'list'> 1607686861632\n"
     ]
    }
   ],
   "source": [
    "data2 = [[11, 22, 33, 44, 55, 66], [100, 200, 300, 400, 500, 600]]\n",
    "print (data2, len(data2), type(data2), id(data2))\n",
    "arr2 = np.array(data2)\n",
    "print (arr2, len(arr2), type(arr2), id(arr2))\n",
    "list2 = arr2.tolist()\n",
    "print (list2, len(list2), type(list2), id(list2))"
   ]
  },
  {
   "cell_type": "code",
   "execution_count": 9,
   "id": "886c67fe-72b4-406b-8a9c-5a1eae274e5d",
   "metadata": {},
   "outputs": [
    {
     "name": "stdout",
     "output_type": "stream",
     "text": [
      "[11, 22, 33, '44', 55, 66] 6 <class 'list'> 1607653768000\n",
      "['11' '22' '33' '44' '55' '66'] 6 <class 'numpy.ndarray'> 1607687480496\n",
      "['11', '22', '33', '44', '55', '66'] 6 <class 'list'> 1607686861440\n"
     ]
    }
   ],
   "source": [
    "data1 = [11, 22, 33, '44', 55, 66]\n",
    "print (data1, len(data1), type(data1), id(data1))\n",
    "arr11 = np.array(data1)\n",
    "print (arr11, len(arr11), type(arr11), id(arr11))\n",
    "list1 = arr11.tolist()\n",
    "print (list1, len(list1), type(list1), id(list1))"
   ]
  },
  {
   "cell_type": "code",
   "execution_count": 13,
   "id": "3c5b2e6a-c40e-43b2-ae8f-0a8b78115beb",
   "metadata": {},
   "outputs": [
    {
     "name": "stdout",
     "output_type": "stream",
     "text": [
      "[11 22 33 44 55 66] int32 1 (6,) 6\n",
      "[[ 11  22  33  44  55  66]\n",
      " [100 200 300 400 500 600]] int32 2 (2, 6) 2\n",
      "['11' '22' '33' '44' '55' '66'] <U11 1 (6,) 6\n"
     ]
    }
   ],
   "source": [
    "# examining arrays\n",
    "print (arr1, arr1.dtype, arr1.ndim, arr1.shape, len(arr1))\n",
    "print (arr2, arr2.dtype, arr2.ndim, arr2.shape, len(arr2))\n",
    "print (arr11, arr11.dtype, arr11.ndim, arr11.shape, len(arr11))"
   ]
  },
  {
   "cell_type": "code",
   "execution_count": 25,
   "id": "4cde3839-3bd2-497e-842b-8446b9732a4c",
   "metadata": {},
   "outputs": [
    {
     "name": "stdout",
     "output_type": "stream",
     "text": [
      "[0. 0. 0. 0. 0. 0. 0. 0. 0. 0.] [0 0 0 0 0 0 0 0 0 0] [0 0 0 0 0 0 0 0 0 0] [0 0 0 0 0 0 0 0 0 0]\n",
      "[1. 1. 1. 1. 1. 1. 1. 1. 1. 1.] [1 1 1 1 1 1 1 1 1 1] [1 1 1 1 1 1 1 1 1 1] [1 1 1 1 1 1 1 1 1 1]\n",
      "[[0. 0. 0. 0.]\n",
      " [0. 0. 0. 0.]\n",
      " [0. 0. 0. 0.]]\n",
      "[[1. 1. 1. 1.]\n",
      " [1. 1. 1. 1.]\n",
      " [1. 1. 1. 1.]]\n"
     ]
    }
   ],
   "source": [
    "# create special arrays\n",
    "print (np.zeros(10), np.zeros(10, np.int8), np.zeros(10, np.int32), np.zeros(10).astype(np.int32))\n",
    "print (np.ones(10), np.ones(10, np.int8), np.ones(10, np.int32), np.ones(10).astype(np.int32))\n",
    "print (np.zeros(12).reshape(3, 4))\n",
    "print (np.ones(12).reshape(3, 4))"
   ]
  },
  {
   "cell_type": "code",
   "execution_count": 32,
   "id": "6b37ef94-bc03-4748-aff4-ecaee0b5a103",
   "metadata": {},
   "outputs": [
    {
     "name": "stdout",
     "output_type": "stream",
     "text": [
      "[ 0.  1.  2.  3.  4.  5.  6.  7.  8.  9. 10.]\n",
      "[ 0.          0.71428571  1.42857143  2.14285714  2.85714286  3.57142857\n",
      "  4.28571429  5.          5.71428571  6.42857143  7.14285714  7.85714286\n",
      "  8.57142857  9.28571429 10.        ]\n",
      "[[ 0.          0.71428571  1.42857143  2.14285714  2.85714286]\n",
      " [ 3.57142857  4.28571429  5.          5.71428571  6.42857143]\n",
      " [ 7.14285714  7.85714286  8.57142857  9.28571429 10.        ]]\n",
      "[[[ 0.          0.43478261  0.86956522  1.30434783]\n",
      "  [ 1.73913043  2.17391304  2.60869565  3.04347826]\n",
      "  [ 3.47826087  3.91304348  4.34782609  4.7826087 ]]\n",
      "\n",
      " [[ 5.2173913   5.65217391  6.08695652  6.52173913]\n",
      "  [ 6.95652174  7.39130435  7.82608696  8.26086957]\n",
      "  [ 8.69565217  9.13043478  9.56521739 10.        ]]]\n"
     ]
    }
   ],
   "source": [
    "print (np.linspace(0, 10, 11))\n",
    "print (np.linspace(0, 10, 15))\n",
    "print (np.linspace(0, 10, 15).reshape(3, 5))\n",
    "print (np.linspace(0, 10, 24).reshape(2, 3, 4))"
   ]
  },
  {
   "cell_type": "code",
   "execution_count": 34,
   "id": "1ac35e92-3f0d-4e61-92fc-d2fdd43b1cdb",
   "metadata": {},
   "outputs": [
    {
     "name": "stdout",
     "output_type": "stream",
     "text": [
      "[   1.   10.  100. 1000.]\n",
      "[1. 2. 4. 8.]\n"
     ]
    }
   ],
   "source": [
    "print (np.logspace(0, 3, 4))\n",
    "print (np.logspace(0, 3, 4, base = 2))"
   ]
  },
  {
   "cell_type": "code",
   "execution_count": 37,
   "id": "0c263ba3-da8a-4683-9c8a-a8994e10cd10",
   "metadata": {},
   "outputs": [
    {
     "name": "stdout",
     "output_type": "stream",
     "text": [
      "[[0. 0. 0. 0. 0.]\n",
      " [0. 0. 0. 0. 0.]\n",
      " [0. 0. 0. 0. 0.]\n",
      " [0. 0. 0. 0. 0.]]\n",
      "[[0. 0. 0. 0. 0.]\n",
      " [0. 0. 0. 0. 0.]\n",
      " [0. 0. 0. 0. 0.]\n",
      " [0. 0. 0. 0. 0.]]\n",
      "[[0.0, 0.0, 0.0, 0.0, 0.0], [0.0, 0.0, 0.0, 0.0, 0.0], [0.0, 0.0, 0.0, 0.0, 0.0], [0.0, 0.0, 0.0, 0.0, 0.0]]\n"
     ]
    }
   ],
   "source": [
    "print (np.zeros(20).reshape(4, 5).astype(np.float16))\n",
    "print (np.zeros(20).astype(np.float16).reshape(4, 5))\n",
    "print (np.zeros(20).astype(np.float16).reshape(4, 5).tolist())"
   ]
  },
  {
   "cell_type": "markdown",
   "id": "75b67fda-6910-4dd6-a244-4af6351bbe5a",
   "metadata": {},
   "source": [
    "### Selections: Indexing and Slicing"
   ]
  },
  {
   "cell_type": "code",
   "execution_count": 43,
   "id": "5586649c-1323-4cf2-9106-8eacf5d1ac3d",
   "metadata": {},
   "outputs": [
    {
     "name": "stdout",
     "output_type": "stream",
     "text": [
      "[11 22 33 44 55 66]\n",
      "55 55 22 22\n",
      "[11 22 33] [11 22 33] [11 22 33] [11 22 33]\n",
      "[33 44 55 66] [33 44 55 66]\n"
     ]
    }
   ],
   "source": [
    "# L2R ->  0  1  2  3  4  5\n",
    "# arr1 = [11 22 33 44 55 66]\n",
    "# R2L -> -6 -5 -4 -3 -2 -1 \n",
    "\n",
    "print (arr1)\n",
    "print (arr1[4], arr1[-2], arr1[1], arr1[-5])   # indexing\n",
    "print (arr1[0:3], arr1[:3], arr1[-6:-3], arr1[:-3])   # slicing\n",
    "print (arr1[2:], arr1[-4:])"
   ]
  },
  {
   "cell_type": "code",
   "execution_count": 48,
   "id": "efe59a37-9e57-4929-bdea-3927c41cad8d",
   "metadata": {},
   "outputs": [
    {
     "name": "stdout",
     "output_type": "stream",
     "text": [
      "[[ 11  22  33  44  55  66]\n",
      " [100 200 300 400 500 600]]\n",
      "400\n",
      "[[ 22  33  44]\n",
      " [200 300 400]]\n",
      "[200 300 400 500]\n"
     ]
    }
   ],
   "source": [
    "print (arr2)\n",
    "print (arr2[1, 3])\n",
    "print (arr2[:, 1:4])  # slicing\n",
    "print (arr2[1, 1:5])"
   ]
  },
  {
   "cell_type": "markdown",
   "id": "83d05b69-80c5-4486-8ad0-e4183d5bd429",
   "metadata": {},
   "source": [
    "### Using Boolean arrays"
   ]
  },
  {
   "cell_type": "code",
   "execution_count": 53,
   "id": "a0f8ee64-3cf2-4e36-9475-80da5945efd3",
   "metadata": {},
   "outputs": [
    {
     "name": "stdout",
     "output_type": "stream",
     "text": [
      "[11 22 33 44 55 66]\n",
      "[False False False  True  True  True] [44 55 66] [ True  True  True False False False] [11 22 33]\n"
     ]
    }
   ],
   "source": [
    "print (arr1)\n",
    "print (arr1 > 35, arr1[arr1 > 35], ~(arr1 > 35), arr1[~(arr1 > 35)])"
   ]
  },
  {
   "cell_type": "markdown",
   "id": "44940434-5405-49bc-9b3e-164bea1473f7",
   "metadata": {},
   "source": [
    "### Vertorized Operations"
   ]
  },
  {
   "cell_type": "code",
   "execution_count": 60,
   "id": "4102a60a-b484-4b3f-9fbf-c214a99fe800",
   "metadata": {},
   "outputs": [
    {
     "name": "stdout",
     "output_type": "stream",
     "text": [
      "[0 1 2 3 4 5 6 7 8 9]\n",
      "[0.         1.         1.41421356 1.73205081 2.         2.23606798\n",
      " 2.44948974 2.64575131 2.82842712 3.        ]\n",
      "4.5 2.8722813232690143 8.25 9 0\n"
     ]
    }
   ],
   "source": [
    "nums = np.arange(10)\n",
    "print (nums)\n",
    "print (np.sqrt(nums))\n",
    "print (np.average(nums), np.std(nums), np.var(nums), np.max(nums), np.min(nums))"
   ]
  },
  {
   "cell_type": "code",
   "execution_count": 64,
   "id": "46694f22-4670-4fdc-8d24-bbb6d27c55a9",
   "metadata": {},
   "outputs": [
    {
     "name": "stdout",
     "output_type": "stream",
     "text": [
      "[0 1 2 3 4]\n",
      "[  0 100   2   3 400]\n",
      "[-3  1 -2  1  4]\n"
     ]
    }
   ],
   "source": [
    "nums = np.arange(5)\n",
    "print (nums)\n",
    "print (np.maximum(nums, np.array([-3, 100, -2, 1, 400])))\n",
    "print (np.minimum(nums, np.array([-3, 100, -2, 1, 400])))"
   ]
  },
  {
   "cell_type": "code",
   "execution_count": 84,
   "id": "f5616532-b11e-4dd7-955b-f03a21c494b2",
   "metadata": {},
   "outputs": [
    {
     "name": "stdout",
     "output_type": "stream",
     "text": [
      "[-0.65226549  0.85347447  0.46314128  0.99776595  1.06317094  0.16177242\n",
      " -1.14151117 -0.93943119  0.25420885  1.7768147 ] -0.004470843105002496 0.9985832032942058\n",
      "[0.82208174 0.81367368 0.58863371 0.70839972 0.59911616 0.72704075\n",
      " 0.81085793 0.43487079 0.98323792 0.41857594]\n",
      "[0 0 1 0 0 1 0 1 1 0]\n"
     ]
    }
   ],
   "source": [
    "# dealing with the random numbers \n",
    "vect1 = np.random.randn(100000)   # normalized random numbers, average and std deviation of these random numbers are near to 0 and 1 respectively\n",
    "print (vect1[:10], np.average(vect1), np.std(vect1))\n",
    "vect1 = np.random.rand(100000)\n",
    "print (vect1[:10])\n",
    "vect1 = np.random.randint(0, 2, 10)\n",
    "print (vect1[:10])"
   ]
  },
  {
   "cell_type": "code",
   "execution_count": 89,
   "id": "51c422ab-dd75-4857-a44b-bc59b2526504",
   "metadata": {},
   "outputs": [
    {
     "name": "stdout",
     "output_type": "stream",
     "text": [
      "[ 1.3315865   0.71527897 -1.54540029 -0.00838385  0.62133597 -0.72008556\n",
      "  0.26551159  0.10854853  0.00429143 -0.17460021] -0.002978414940633845 0.9994189529461146\n",
      "[0.93892543 0.78825449 0.24617916 0.82997551 0.06961484 0.79257712\n",
      " 0.75565444 0.44005615 0.93485363 0.79475876]\n",
      "[0 0 1 0 1 1 0 1 0 1]\n"
     ]
    }
   ],
   "source": [
    "# dealing with the random numbers\n",
    "np.random.seed(10)\n",
    "vect1 = np.random.randn(100000)   # normalized random numbers, average and std deviation of these random numbers are near to 0 and 1 respectively\n",
    "print (vect1[:10], np.average(vect1), np.std(vect1))\n",
    "vect1 = np.random.rand(100000)\n",
    "print (vect1[:10])\n",
    "vect1 = np.random.randint(0, 2, 10)\n",
    "print (vect1[:10])"
   ]
  },
  {
   "cell_type": "code",
   "execution_count": 97,
   "id": "050acaf5-5ea6-45bb-8230-a8dfd5222573",
   "metadata": {},
   "outputs": [
    {
     "name": "stdout",
     "output_type": "stream",
     "text": [
      "[1 0 0 0 1 1 0 0 1 1]\n"
     ]
    }
   ],
   "source": [
    "vect1 = np.random.randint(0, 2, 10)\n",
    "print (vect1[:10])"
   ]
  },
  {
   "cell_type": "code",
   "execution_count": 106,
   "id": "a26680d8-8a0d-40a5-b639-e2c90b5c3cf5",
   "metadata": {},
   "outputs": [
    {
     "name": "stdout",
     "output_type": "stream",
     "text": [
      "[ 0.4071314  -0.45229137  0.29327993 -1.6188745  -0.92558979  1.11033685\n",
      " -0.61004917 -0.03862624 -1.95317773 -0.48387054] 10\n",
      "[ 0.34912649 -0.12994846  0.53837336 -0.30738581 -0.7660152   0.26525789\n",
      "  1.36746209  0.19027266  0.17962687  0.52675626] 10\n",
      "Distance = 3.487138207632022\n",
      "Distance = 3.487138207632022\n",
      "Distance = 3.487138207632022\n",
      "Distance = 3.487138207632022\n"
     ]
    }
   ],
   "source": [
    "# calculating Euclidean distance between two vectors\n",
    "# pt1(x1, y1) and pt2(x2, y2) the Eucledian distance between pt1 and pt2 = sqrt((x1 - x2)^2 + (y1 - y2)^2)\n",
    "vect1 = np.random.randn(10)\n",
    "print (vect1, len(vect1))\n",
    "vect2 = np.random.randn(10)\n",
    "print (vect2, len(vect2))\n",
    "\n",
    "dist = 0\n",
    "for i in range(len(vect1)):\n",
    "    dist = dist + (vect1[i] - vect2[i]) ** 2\n",
    "print (\"Distance =\", np.sqrt(dist))\n",
    "\n",
    "print (\"Distance =\", np.sqrt(np.sum((vect1 - vect2) ** 2)))\n",
    "print (\"Distance =\", np.sqrt(np.sum(pow((vect1 - vect2), 2))))\n",
    "print (\"Distance =\", np.sqrt(np.sum(pow(np.subtract(vect1, vect2), 2))))"
   ]
  },
  {
   "cell_type": "markdown",
   "id": "fb9250cb-43f7-45b7-976f-5042c51503eb",
   "metadata": {},
   "source": [
    "### Broadcasting"
   ]
  },
  {
   "attachments": {
    "Numpy%20Broadcast.png": {
     "image/png": "[encoded data removed]"
    }
   },
   "cell_type": "markdown",
   "id": "1d4709e2",
   "metadata": {},
   "source": [
    "![Numpy%20Broadcast.png](attachment:Numpy%20Broadcast.png)"
   ]
  },
  {
   "cell_type": "code",
   "execution_count": 107,
   "id": "a6860c20",
   "metadata": {},
   "outputs": [
    {
     "name": "stdout",
     "output_type": "stream",
     "text": [
      "[[ 0  0  0]\n",
      " [10 10 10]\n",
      " [20 20 20]\n",
      " [30 30 30]]\n",
      "[[ 0]\n",
      " [10]\n",
      " [20]\n",
      " [30]]\n"
     ]
    }
   ],
   "source": [
    "a1 = np.array([[  0,  0,  0],\n",
    "               [ 10, 10, 10],\n",
    "               [ 20, 20, 20],\n",
    "               [ 30, 30, 30]])\n",
    "a2 = np.array([[0], [10], [20], [30]])\n",
    "print (a1)\n",
    "print (a2)"
   ]
  },
  {
   "cell_type": "code",
   "execution_count": 108,
   "id": "625e834e-14cd-4c44-a995-b04929ad90b9",
   "metadata": {},
   "outputs": [
    {
     "name": "stdout",
     "output_type": "stream",
     "text": [
      "[[0 1 2]\n",
      " [0 1 2]\n",
      " [0 1 2]\n",
      " [0 1 2]]\n",
      "[0 1 2]\n"
     ]
    }
   ],
   "source": [
    "b1 = np.array([[0, 1, 2],\n",
    "               [0, 1, 2],\n",
    "               [0, 1, 2],\n",
    "               [0, 1, 2]])\n",
    "b2 = np.array([0, 1, 2])\n",
    "print (b1)\n",
    "print (b2)"
   ]
  },
  {
   "cell_type": "code",
   "execution_count": 109,
   "id": "5f8a6cd5-3435-436a-a9ba-f54d4e64f264",
   "metadata": {},
   "outputs": [
    {
     "name": "stdout",
     "output_type": "stream",
     "text": [
      "[[ 0  1  2]\n",
      " [10 11 12]\n",
      " [20 21 22]\n",
      " [30 31 32]]\n",
      "[[ 0  1  2]\n",
      " [10 11 12]\n",
      " [20 21 22]\n",
      " [30 31 32]]\n",
      "[[ 0  1  2]\n",
      " [10 11 12]\n",
      " [20 21 22]\n",
      " [30 31 32]]\n",
      "[[ 0  1  2]\n",
      " [10 11 12]\n",
      " [20 21 22]\n",
      " [30 31 32]]\n"
     ]
    }
   ],
   "source": [
    "print (a1 + b1)\n",
    "print (a1 + b2)\n",
    "print (a2 + b1)\n",
    "print (a2 + b2)"
   ]
  },
  {
   "cell_type": "code",
   "execution_count": 110,
   "id": "77041010-b182-4053-af26-52e0d2ecf9a4",
   "metadata": {},
   "outputs": [
    {
     "name": "stdout",
     "output_type": "stream",
     "text": [
      "[[ 0  0  0]\n",
      " [ 0 10 20]\n",
      " [ 0 20 40]\n",
      " [ 0 30 60]]\n",
      "[[ 0  0  0]\n",
      " [ 0 10 20]\n",
      " [ 0 20 40]\n",
      " [ 0 30 60]]\n",
      "[[ 0  0  0]\n",
      " [ 0 10 20]\n",
      " [ 0 20 40]\n",
      " [ 0 30 60]]\n",
      "[[ 0  0  0]\n",
      " [ 0 10 20]\n",
      " [ 0 20 40]\n",
      " [ 0 30 60]]\n"
     ]
    }
   ],
   "source": [
    "print (a1 * b1)\n",
    "print (a1 * b2)\n",
    "print (a2 * b1)\n",
    "print (a2 * b2)"
   ]
  },
  {
   "cell_type": "code",
   "execution_count": null,
   "id": "042b7b40-39a7-463e-8ec1-1528d8a1550a",
   "metadata": {},
   "outputs": [],
   "source": []
  }
 ],
 "metadata": {
  "kernelspec": {
   "display_name": "Python 3",
   "language": "python",
   "name": "python3"
  },
  "language_info": {
   "codemirror_mode": {
    "name": "ipython",
    "version": 3
   },
   "file_extension": ".py",
   "mimetype": "text/x-python",
   "name": "python",
   "nbconvert_exporter": "python",
   "pygments_lexer": "ipython3",
   "version": "3.8.8"
  }
 },
 "nbformat": 4,
 "nbformat_minor": 5
}
